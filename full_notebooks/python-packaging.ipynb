{
 "cells": [
  {
   "cell_type": "markdown",
   "id": "a74d597c-5ea1-4a84-bffc-d18627b199e7",
   "metadata": {},
   "source": [
    "# Python Packaging\n",
    "\n",
    "**References**:\n",
    "+ https://www.pyopensci.org/python-package-guide/index.html\n",
    "\n",
    "**Content**:\n",
    "+ Python packaging\n",
    "    + Introduction & Motivation\n",
    "    + Python packaging with `hatch`\n",
    "    + Configure `hatch`\n",
    "    + Python package directory structure\n",
    "    + Install package locally"
   ]
  },
  {
   "cell_type": "markdown",
   "id": "be6cc411-ec3d-4c82-ab80-5f6387b0e32f",
   "metadata": {},
   "source": [
    "# Python packaging\n",
    "\n",
    "## Before we start... setup your project structure\n",
    "+ open GitHub Desktop and create a new repository\n",
    "    +  \n",
    "+ open Git Bash in the \"python-class-25\" directory (use GitHub `Desktop > Repository > Open GitBash`)\n",
    "+ activate your conda environment: `$ conda activate python-course-2025`"
   ]
  },
  {
   "cell_type": "markdown",
   "id": "4e65bf38-1acb-438c-a283-a83854130fb2",
   "metadata": {},
   "source": [
    "## Introduction\n",
    "### What is a Python package?\n",
    "\n",
    "+ A Python package is basically a directory with a specific file structure.\n",
    "+ Within the package directory structure, there are *modules* which are files that end in `.py`.\n",
    "+ These modules allow you to group and structure your Python code.\n",
    "+ Each module contains *functions* and *classes*\n",
    "\n",
    "### Motivation for Python packaging\n",
    "\n",
    "+ Use your code across different project\n",
    "+ Share your code\n",
    "+ Organize your code\n",
    "\n",
    "### Elements of a Python package\n",
    "+ **Code**: Functions and classes that provide functionality for a user of your package\n",
    "+ **Documentation**: Installation instructions, tutorials, and examples\n",
    "+ **Tests**: Make sure your code works as it should \n",
    "+ **License**: Select a license for your package such that others also know how to re-use your package\n",
    "+ **Infrastructure**: Automate updates, publication workflows and runs test suites; includes platforms like GitHub and GitLab\n",
    "\n",
    "### The importance of version control\n",
    "+ Most Python packages live in an online version control platform such as GitHub or GitLab.\n",
    "+ GitHub and GitLab both run git for version control.\n",
    "+ Having your software under version control is important because it allows you to both track changes over time while also going back in history and undoing changes in the case that a change to the code base unexpectedly breaks something.\n",
    "\n",
    "### Python packages and environments\n",
    "+ You can install a Python package into a Python environment in the same way you might install NumPy or Pandas.\n",
    "+ Installing your package into an environment allows you to access it from any code run with that specific Python environment activated"
   ]
  },
  {
   "cell_type": "markdown",
   "id": "0472476e-a3d8-432e-886e-c2c9f6b848f1",
   "metadata": {},
   "source": [
    "## Python packaging with `hatch`\n",
    "\n",
    "+ install `hatch` via pip (if you run into problems check out: https://www.pyopensci.org/python-package-guide/tutorials/get-to-know-hatch.html)\n",
    "+ check whether `hatch` can be found"
   ]
  },
  {
   "cell_type": "code",
   "execution_count": null,
   "id": "d5baaa24-50e2-4b52-804a-fac571fc313b",
   "metadata": {},
   "outputs": [],
   "source": [
    "# install hatch via pip\n",
    "$ pip install hatch\n",
    "\n",
    "# check hatch version (should work if installation was successful)\n",
    "$ hatch --version"
   ]
  },
  {
   "cell_type": "markdown",
   "id": "cf4ad873-0cfb-46f3-9efe-ddc2aad265ea",
   "metadata": {},
   "source": [
    "## Configure Hatch\n",
    "\n",
    "+ Once you have installed Hatch, you can customize its configuration. \n",
    "+ open the directory where your config file is located and open it for editing"
   ]
  },
  {
   "cell_type": "code",
   "execution_count": null,
   "id": "c43860c2-96fe-4d69-96e5-268690472a4b",
   "metadata": {},
   "outputs": [],
   "source": [
    "# open a directory window in which the config file is located\n",
    "$ hatch config explore"
   ]
  },
  {
   "cell_type": "markdown",
   "id": "14394adb-b5ae-4f40-a105-db419b8c8278",
   "metadata": {},
   "source": [
    "The config file should look similar to the following below. Notice that the default license is MIT."
   ]
  },
  {
   "cell_type": "code",
   "execution_count": null,
   "id": "eacb8d9e-64cd-4a63-94de-66b0663aeade",
   "metadata": {},
   "outputs": [],
   "source": [
    "mode = \"local\"\n",
    "project = \"\"\n",
    "shell = \"\"\n",
    "\n",
    "[dirs]\n",
    "project = []\n",
    "python = \"isolated\"\n",
    "data = \"C:\\\\Users\\\\bockting\\\\AppData\\\\Local\\\\hatch\"\n",
    "cache = \"C:\\\\Users\\\\bockting\\\\AppData\\\\Local\\\\hatch\\\\Cache\"\n",
    "\n",
    "[dirs.env]\n",
    "\n",
    "[projects]\n",
    "\n",
    "[publish.index]\n",
    "repo = \"main\"\n",
    "\n",
    "[template]\n",
    "name = \"Florence Bockting\"\n",
    "email = \"48919471+florence-bockting@users.noreply.github.com\"\n",
    "\n",
    "[template.licenses]\n",
    "headers = true\n",
    "default = [\n",
    "    \"MIT\",\n",
    "]\n",
    "\n",
    "[template.plugins.default]\n",
    "tests = true\n",
    "ci = false\n",
    "src-layout = true\n",
    "\n",
    "[terminal.styles]\n",
    "info = \"bold\"\n",
    "success = \"bold cyan\"\n",
    "error = \"bold red\"\n",
    "warning = \"bold yellow\"\n",
    "waiting = \"bold magenta\"\n",
    "debug = \"bold\"\n",
    "spinner = \"simpleDotsScrolling\""
   ]
  },
  {
   "cell_type": "markdown",
   "id": "5d68586b-7b1d-4699-8810-e686ca5122da",
   "metadata": {},
   "source": [
    "Save and close the config file and run the following command in GitBash, which will print out the contents of your config.toml file in your shell"
   ]
  },
  {
   "cell_type": "code",
   "execution_count": null,
   "id": "6d001c6d-fed1-44ef-a9a2-67541627a9a6",
   "metadata": {},
   "outputs": [],
   "source": [
    "$ hatch config show"
   ]
  },
  {
   "cell_type": "markdown",
   "id": "8d7df747-4af8-484b-a1b5-996b93d234fe",
   "metadata": {},
   "source": [
    "## Python package directory structure\n",
    "To make your Python code installable you need to create a specific directory structure with the following elements:\n",
    "+ `pyproject.toml`\n",
    "+ specific directory structure\n",
    "+ some code\n",
    "+ an `__init__.py` file in your code directory"
   ]
  },
  {
   "cell_type": "raw",
   "id": "ab0c94b0-03cc-483b-86e0-1c333b9e2eae",
   "metadata": {},
   "source": [
    "mypackage/                            # Your project directory\n",
    " └─ pyproject.toml\n",
    " └─ src/                              # The source code (src) directory \n",
    "    └── mypackage/                    # Package directory where code lives\n",
    "        ├── __init__.py\n",
    "        ├── mycode.py\n",
    "        └── # Add any other .py modules that you want here"
   ]
  },
  {
   "cell_type": "markdown",
   "id": "055d9f95-2d6b-419b-b45f-963717d93711",
   "metadata": {},
   "source": [
    "Notes:\n",
    "+ Use the name of your package for the directory name (`src/mypackage/`)\n",
    "+ the root directory for the package is also called after your package `mypackage/`. This is not required but common practice.\n",
    "+ the init file (`mypackage/__init__.py`) tells Python that the directory should be treated as a Python package. The init file is usually empty\n",
    "\n",
    "Using the directory specifciation above you can run in python `import mypackage`\n",
    "\n",
    "The `pyproject.toml` file is:\n",
    "+ Where you define your project’s metadata (including its name, authors, license, etc)\n",
    "+ Where you define dependencies (the packages that it depends on, e.g. numpy, matplotlib, pandas, etc.)\n",
    "+ Used to specify and configure what build backend you want to use to build your package.\n",
    "+ required fields for the package to be installable include:\n",
    "    + The build-backend that you want to use\n",
    "    + The project name and version\n",
    "\n",
    "### Create your first python package\n",
    "+ open the directory where you want to save your package in the file explorer (it should not be in the `python-course-25` directory; as we need a directory which is not already a git repository)\n",
    "    + with right click select the option > further options > open GitBash here\n",
    "+ create an initial package structure with hatch.\n",
    "+ You should see that hatch automatically creates the corresponding package structure for you"
   ]
  },
  {
   "cell_type": "code",
   "execution_count": null,
   "id": "e87f8f21-98b4-4415-9de7-caba785b2536",
   "metadata": {},
   "outputs": [],
   "source": [
    "$ hatch new mypackage\n",
    "\n",
    "mypackage\n",
    "+-- src\n",
    "|   `-- mypackage\n",
    "|       +-- __about__.py\n",
    "|       `-- __init__.py\n",
    "+-- tests\n",
    "|   `-- __init__.py\n",
    "+-- LICENSE.txt\n",
    "+-- README.md\n",
    "`-- pyproject.toml\n"
   ]
  },
  {
   "cell_type": "markdown",
   "id": "86a48eaa-68e3-4a45-a50e-d5568382f359",
   "metadata": {},
   "source": [
    "### Setup the whole project struture\n",
    "+ go to GitHub Desktop and create a **new git repository**\n",
    "    + File > New Repository\n",
    "        + Name: \"mypackage\"\n",
    "        + folder location (same directory in which you already have your \"mypackage\" folder)\n",
    "        + Description: \"My first Python package\"\n",
    "        + Initialize Repo with README: No\n",
    "        + License: None\n",
    "        + gitignore: None\n",
    "    + confirm changes using **Create repository**\n",
    "    + go to the tap **Repository** and click on **Open in GitBash** (a commmand window should open)\n",
    "    + check whether all expected files are in this directory with `$ ls`\n",
    "        + expected output: `LICENSE.txt  pyproject.toml  README.md  src/  tests/  tutorial.ipynb`\n",
    "    + and finally, your can publish your first Python package on GitHub\n",
    "+ create and activate a **new conda environment**\n",
    "    + `$ conda create -n mypackage-env`\n",
    "    + `$ conda activate mypackage-env` \n",
    "+ select in Anaconda your new environemnt\n",
    "+ install Spyder & JupyterLab\n",
    "+ create a **new Spyder project** for your package\n",
    "    + (in Spyder) Projects > New project\n",
    "    + select the mypackage folder"
   ]
  },
  {
   "cell_type": "markdown",
   "id": "ae00f8ad-09a7-4db3-905a-e718fc17173d",
   "metadata": {},
   "source": [
    "### Copy&paste your python modules to your package\n",
    "+ A Python module refers to a `.py` file containing the code that you want your package to access and run\n",
    "+ copy & paste your two modules `simulations.py` and `plotting.py` from mypackage_temp into the folder `mypackage/src/mypackage`\n",
    "+ delete mypackage_temp\n",
    "+ updated package structure:"
   ]
  },
  {
   "cell_type": "code",
   "execution_count": null,
   "id": "29755f62-9331-465c-9989-c56cf5d02a2c",
   "metadata": {},
   "outputs": [],
   "source": [
    "mypackage\n",
    "+-- src\n",
    "|   `-- mypackage\n",
    "|       +-- __about__.py\n",
    "|       +-- __init__.py\n",
    "|       +-- simulations.py\n",
    "|       `-- plotting.py\n",
    "+-- tests\n",
    "|   `-- __init__.py\n",
    "+-- LICENSE.txt\n",
    "+-- README.md\n",
    "`-- pyproject.toml"
   ]
  },
  {
   "cell_type": "markdown",
   "id": "2117aed9-2a2a-41fb-bbd1-4ce9f0afdd1e",
   "metadata": {},
   "source": [
    "### Modify meta-data in your pyproject.toml"
   ]
  },
  {
   "cell_type": "markdown",
   "id": "70ede905-8264-4e1f-8ea1-d6579149e857",
   "metadata": {},
   "source": [
    "+ open Git Bash in your `mypackage` folder "
   ]
  },
  {
   "cell_type": "code",
   "execution_count": null,
   "id": "041fa39a-fc2b-4fbd-97d1-6f71d896e24b",
   "metadata": {},
   "outputs": [],
   "source": [
    "# you should be in the following directory: mypackage\n",
    "# open the pyproject.toml file\n",
    "start pyproject.toml # MacOS users: open pyproject.toml"
   ]
  },
  {
   "cell_type": "markdown",
   "id": "48f3b4ba-69a4-4846-9832-dce1e6023ecb",
   "metadata": {},
   "source": [
    "A file similar to the following should open.\n",
    "+ Hatch by default provides a list of classifiers that define what Python versions your package supports.\n",
    "+ These classifiers do not in any way impact your package’s build and are primarily intended to be used when you publish your package to PyPI."
   ]
  },
  {
   "cell_type": "code",
   "execution_count": null,
   "id": "a4761fff-9473-405a-b259-ceee5b7b517c",
   "metadata": {},
   "outputs": [],
   "source": [
    "[build-system]\n",
    "requires = [\"hatchling\"]\n",
    "build-backend = \"hatchling.build\"\n",
    "\n",
    "[project]\n",
    "name = \"mypackage\"\n",
    "dynamic = [\"version\"]\n",
    "description = ''\n",
    "readme = \"README.md\"\n",
    "requires-python = \">=3.8\"\n",
    "license = \"MIT\"\n",
    "keywords = []\n",
    "authors = [\n",
    "  { name = \"Florence Bockting\", email = \"48919471+florence-bockting@users.noreply.github.com\" },\n",
    "]\n",
    "classifiers = [\n",
    "  \"Development Status :: 4 - Beta\",\n",
    "  \"Programming Language :: Python\",\n",
    "  \"Programming Language :: Python :: 3.8\",\n",
    "  \"Programming Language :: Python :: 3.9\",\n",
    "  \"Programming Language :: Python :: 3.10\",\n",
    "  \"Programming Language :: Python :: 3.11\",\n",
    "  \"Programming Language :: Python :: 3.12\",\n",
    "  \"Programming Language :: Python :: Implementation :: CPython\",\n",
    "  \"Programming Language :: Python :: Implementation :: PyPy\",\n",
    "]\n",
    "dependencies = []\n",
    "\n",
    "[project.urls]\n",
    "Documentation = \"https://github.com/Florence Bockting/mypackage#readme\"\n",
    "Issues = \"https://github.com/Florence Bockting/mypackage/issues\"\n",
    "Source = \"https://github.com/Florence Bockting/mypackage\"\n",
    "\n",
    "[tool.hatch.version]\n",
    "path = \"src/mypackage/__about__.py\"\n",
    "\n",
    "[tool.hatch.envs.types]\n",
    "extra-dependencies = [\n",
    "  \"mypy>=1.0.0\",\n",
    "]\n",
    "[tool.hatch.envs.types.scripts]\n",
    "check = \"mypy --install-types --non-interactive {args:src/mypackage tests}\"\n",
    "\n",
    "[tool.coverage.run]\n",
    "source_pkgs = [\"mypackage\", \"tests\"]\n",
    "branch = true\n",
    "parallel = true\n",
    "omit = [\n",
    "  \"src/mypackage/__about__.py\",\n",
    "]\n",
    "\n",
    "[tool.coverage.paths]\n",
    "mypackage = [\"src/mypackage\", \"*/mypackage/src/mypackage\"]\n",
    "tests = [\"tests\", \"*/mypackage/tests\"]\n",
    "\n",
    "[tool.coverage.report]\n",
    "exclude_lines = [\n",
    "  \"no cov\",\n",
    "  \"if __name__ == .__main__.:\",\n",
    "  \"if TYPE_CHECKING:\",\n",
    "]"
   ]
  },
  {
   "cell_type": "markdown",
   "id": "e89697d7-4d7e-4ac7-980d-ceda46c895cc",
   "metadata": {},
   "source": [
    "+ Delete `dynamic = [\"version\"]`: This sets up dynamic versioning based on tags stored in your git commit history.\n",
    "+ Add `version = \"0.1\"` in the place of `dynamic = [\"version\"]` which you just deleted.\n",
    "+ Fill in the description if it doesn’t already exist.\n",
    "+ Remove the `[tool.hatch.version]` table from the bottom of the file."
   ]
  },
  {
   "cell_type": "code",
   "execution_count": null,
   "id": "6e3c9e0c-5923-4f16-b236-c25bc11f0c09",
   "metadata": {},
   "outputs": [],
   "source": [
    "[build-system]\n",
    "requires = [\"hatchling\"]\n",
    "build-backend = \"hatchling.build\"\n",
    "\n",
    "[project]\n",
    "name = \"mypackage\"\n",
    "version = \"0.1\"   <<---\n",
    "description = 'This is my first package description.'  <<---\n",
    "readme = \"README.md\"\n",
    "...\n"
   ]
  },
  {
   "cell_type": "markdown",
   "id": "198de893-cc4d-41c0-845b-a0b3ab72fae0",
   "metadata": {},
   "source": [
    "## Intermediate Check-list\n",
    "+ git repository for your package\n",
    "+ Spyder project for your package\n",
    "+ python directory with a `pyproject.toml` at the root\n",
    "+ package directory containing an empty `__init__.py`\n",
    "+ two Python modules (`simulations.py`, `plotting.py`)\n",
    "\n",
    "## Now, you can install your package\n",
    "+ make sure that your are in the root project directory (`myproject/`)\n",
    "+ install package in **editable mode**\n",
    "\n",
    "Note:\n",
    "+ Installing your package in editable mode (`-e`), allows you to work on your code and then test the updates interactively in your favorite Python interface.\n",
    "+ One important caveat of editable mode is that every time you update your code, you may need to restart Python.\n",
    "+ Below, you use `python -m` to call the version of pip installed into your current active environment. \n",
    "+ `python -m` is important to ensure that you are calling the version of pip installed in your current environment"
   ]
  },
  {
   "cell_type": "code",
   "execution_count": null,
   "id": "d29c121d-ae83-41bf-9f2d-a3b4656b9665",
   "metadata": {},
   "outputs": [],
   "source": [
    "# check out current directory\n",
    "$ pwd # you should get: /your-path/mypackage\n",
    "\n",
    "# install your python package in the editable mode (-e)\n",
    "$ python -m pip install -e ."
   ]
  },
  {
   "cell_type": "raw",
   "id": "a647a112-46fe-4605-b08c-dc9f9dbc3358",
   "metadata": {},
   "source": [
    "Obtaining file:///C:/Users/bockting/Documents/GitHub/python-course-2024/mypackage\n",
    "  Installing build dependencies: started\n",
    "  Installing build dependencies: finished with status 'done'\n",
    "  Checking if build backend supports build_editable: started\n",
    "  Checking if build backend supports build_editable: finished with status 'done'\n",
    "  Getting requirements to build editable: started\n",
    "  Getting requirements to build editable: finished with status 'done'\n",
    "  Installing backend dependencies: started\n",
    "  Installing backend dependencies: finished with status 'done'\n",
    "  Preparing editable metadata (pyproject.toml): started\n",
    "  Preparing editable metadata (pyproject.toml): finished with status 'done'\n",
    "Building wheels for collected packages: mypackage\n",
    "  Building editable for mypackage (pyproject.toml): started\n",
    "  Building editable for mypackage (pyproject.toml): finished with status 'done'\n",
    "  Created wheel for mypackage: filename=mypackage-0.1-py3-none-any.whl size=2345 sha256=bc449dc0b3b12cbb307fa771b30928d10310ff143465f2da3884bb0727225cc3\n",
    "  Stored in directory: C:\\Users\\bockting\\AppData\\Local\\Temp\\pip-ephem-wheel-cache-_8p8ti6u\\wheels\\70\\61\\e8\\9283ae402304cbaffab1bf574ee74e4398918cb76dbc40ec41\n",
    "Successfully built mypackage\n",
    "Installing collected packages: mypackage\n",
    "Successfully installed mypackage-0.1"
   ]
  },
  {
   "cell_type": "markdown",
   "id": "5ec108e1-1447-4abc-964b-415c864727db",
   "metadata": {},
   "source": [
    "![congrats](https://cdn-icons-png.flaticon.com/256/3656/3656949.png)"
   ]
  },
  {
   "cell_type": "markdown",
   "id": "c9c31fa0-9951-45c0-a239-81804f8e08ee",
   "metadata": {},
   "source": [
    "Check whether your package is in the list of current package installations:"
   ]
  },
  {
   "cell_type": "code",
   "execution_count": null,
   "id": "8e83a326-9829-4f1a-a038-759a239892b5",
   "metadata": {},
   "outputs": [],
   "source": [
    "pip list"
   ]
  },
  {
   "cell_type": "raw",
   "id": "4e0d50ad-99cd-4bf9-9e34-7304dbb1e655",
   "metadata": {},
   "source": [
    "...\n",
    "keyring                   25.2.1\n",
    "markdown-it-py            3.0.0\n",
    "MarkupSafe                2.1.3\n",
    "matplotlib-inline         0.1.6\n",
    "mdurl                     0.1.2\n",
    "mistune                   2.0.4\n",
    "more-itertools            10.3.0\n",
    "mypackage                 0.1         C:\\Users\\bockting\\Documents\\GitHub\\python-course-2024\\mypackage\n",
    "nbclient                  0.8.0\n",
    "nbconvert                 7.10.0\n",
    "nbformat                  5.9.2\n",
    "nest-asyncio              1.6.0\n",
    "..."
   ]
  },
  {
   "cell_type": "markdown",
   "id": "abf5fe06-f86e-49eb-aad9-23bb54fa5b07",
   "metadata": {},
   "source": [
    "## Import your library\n",
    "+ create a new Jupyter notebook in your `mypackage` folder called `tutorial`\n",
    "+ give it a **title** (e.g., *Welcome to the tutorial about mypackage!*)\n",
    "+ import the functions from `mypackage`:"
   ]
  },
  {
   "cell_type": "code",
   "execution_count": null,
   "id": "61eae997-6437-466f-8da9-7836270f07d8",
   "metadata": {},
   "outputs": [],
   "source": [
    "# load required functions and classes\n",
    "from mypackage.plotting import print_galton_board\n",
    "from mypackage.simulations import galton"
   ]
  },
  {
   "cell_type": "markdown",
   "id": "9d705adc-3b65-46cd-90fc-15be113ec997",
   "metadata": {},
   "source": [
    "+ describe what your code is doing next and then call the imported function `galton` \n",
    "    + Simulate data. In the following we simulate a galton board with 100 balls and 15 bins."
   ]
  },
  {
   "cell_type": "code",
   "execution_count": null,
   "id": "c6749223-e9a0-4e66-a048-7c499e695688",
   "metadata": {},
   "outputs": [],
   "source": [
    "data = galton(num_bins = 15, num_balls = 100)\n",
    "print(data)"
   ]
  },
  {
   "cell_type": "markdown",
   "id": "c2696ae6-7061-45e9-964b-bee50d9b096e",
   "metadata": {},
   "source": [
    "+ describe the next step and call the imported function `print_galton_board` \n",
    "    + Visualize simulated data. We see that already the expected form of a Gaussian..."
   ]
  },
  {
   "cell_type": "code",
   "execution_count": null,
   "id": "08a079c9-4951-44cd-bcad-9136926f785a",
   "metadata": {},
   "outputs": [],
   "source": [
    "print_galton_board(data)"
   ]
  },
  {
   "cell_type": "markdown",
   "id": "e901dd13-3628-4059-be7b-12a0ebeaf0a5",
   "metadata": {},
   "source": [
    "\n",
    "😍 "
   ]
  },
  {
   "cell_type": "markdown",
   "id": "31d02d14-df37-412b-ba09-202b14671380",
   "metadata": {},
   "source": [
    "## Including dependencies in your project\n",
    "\n",
    "+ consider we import functions from `numpy` that we use in the modules of our package\n",
    "+ then we have to add these *dependencies* in our pyproject.toml\n",
    "+ one way of doing is the following:\n",
    "    + first, create a `requirements.txt` file which lists all dependencies for you\n",
    "        + open GitBash in the main directory of your package `mypackage` (where also the `pyproject.toml` file is)\n",
    "        + install the `pipreqs` package: `$ pip install pipreqs`\n",
    "        + run in `pipreqs .`\n",
    "        + a `requirements.txt` file should have been created in the current directory you are pointing at\n",
    "    + second, check out the `requirements.txt` file and include the listed packages incl. versions in the `dependencie` variable in your `pyproject.toml`\n",
    "    + for example like this for numpy:    "
   ]
  },
  {
   "cell_type": "raw",
   "id": "027261d1-ad30-4a80-b84b-c337e88a5f68",
   "metadata": {},
   "source": [
    "% pyproject.toml\n",
    "...\n",
    "\n",
    "dependencies = [\n",
    "    \"numpy == 2.2.3\"\n",
    "]\n",
    "\n",
    "..."
   ]
  },
  {
   "cell_type": "markdown",
   "id": "a1dcfaf4-eaaa-4990-9d0f-3e994691966c",
   "metadata": {},
   "source": [
    "+ install your project again as already described"
   ]
  }
 ],
 "metadata": {
  "kernelspec": {
   "display_name": "Python 3 (ipykernel)",
   "language": "python",
   "name": "python3"
  },
  "language_info": {
   "codemirror_mode": {
    "name": "ipython",
    "version": 3
   },
   "file_extension": ".py",
   "mimetype": "text/x-python",
   "name": "python",
   "nbconvert_exporter": "python",
   "pygments_lexer": "ipython3",
   "version": "3.12.9"
  }
 },
 "nbformat": 4,
 "nbformat_minor": 5
}
